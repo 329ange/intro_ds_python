{
 "cells": [
  {
   "cell_type": "markdown",
   "id": "df8e527e-335f-4343-8e1e-26b16d5044c6",
   "metadata": {},
   "source": [
    "# Expressões Regulares (Regular Expressions - RegEx)\n",
    "\n",
    "Neste notebook, serão exibidas as resoluções dos exercícios da primeira tarefa do curso [_Introduction to Data Sicence in Python_](https://www.coursera.org/programs/universidade-de-sao-paulo-br-on-coursera-mvxtw/learn/python-data-analysis), correspondente à semana 1 do curso, que trata de Expressões Regulares."
   ]
  },
  {
   "cell_type": "markdown",
   "id": "21f989c6-9228-4b3d-bae8-a4dc114db4ff",
   "metadata": {},
   "source": [
    "## Parte A\n",
    "\n",
    "Exercício simples: Achar uma lista com todos os nomes presentes em uma dada String e, com isso, contar quantos nomes há na string."
   ]
  },
  {
   "cell_type": "code",
   "execution_count": 1,
   "id": "b50cb39a-cb26-434a-aa71-0bb247080bdc",
   "metadata": {},
   "outputs": [
    {
     "name": "stdout",
     "output_type": "stream",
     "text": [
      "Há 4 nomes na string: ['Amy', 'Mary', 'Ruth', 'Peter']\n"
     ]
    }
   ],
   "source": [
    "import re #módulo nativo do python para lidar com regex\n",
    "\n",
    "simple_string = 'Amy is 5 years old, and her sister Mary is 2 years old. Ruth and Peter, their parents, have 3 kids.'\n",
    "\n",
    "result1 = re.findall(r'[A-Z][a-z]+', simple_string)\n",
    "\n",
    "print('Há {} nomes na string:'.format(len(result1)),result1)"
   ]
  },
  {
   "cell_type": "markdown",
   "id": "4e4e3d7e-ccdf-4ed5-a8a1-712709e7d431",
   "metadata": {},
   "source": [
    "Bastou buscar por todas as palavras que iniciam por um caractere de letra maiúscula seguida de um ou mais caracteres de letra minúscula, haja vista a string dada."
   ]
  },
  {
   "cell_type": "markdown",
   "id": "787acdc2-322f-455e-afdb-9f37c8f1efc0",
   "metadata": {},
   "source": [
    "## Parte B\n",
    "\n",
    "Aqui, o objetivo é o de achar todos os estudantes que tiraram B em [uma lista de estudantes e suas respectivas notas](grades.txt). Com isso, contar quantos estudantes tiraram nota B. Cada item da lista é separado por uma quebra de linha."
   ]
  },
  {
   "cell_type": "code",
   "execution_count": 2,
   "id": "d920304c-f617-43d9-a37a-f885d12089c6",
   "metadata": {},
   "outputs": [
    {
     "name": "stdout",
     "output_type": "stream",
     "text": [
      "Há 16 estudantes com nota B: ['Bell Kassulke', 'Simon Loidl', 'Elias Jovanovic', 'Hakim Botros', 'Emilie Lorentsen', 'Jake Wood', 'Fatemeh Akhtar', 'Kim Weston', 'Yasmin Dar', 'Viswamitra Upandhye', 'Killian Kaufman', 'Elwood Page', 'Elodie Booker', 'Adnan Chen', 'Hank Spinka', 'Hannah Bayer']\n"
     ]
    }
   ],
   "source": [
    "with open(\"grades.txt\", \"r\") as file:\n",
    "    grades = file.read()\n",
    "\n",
    "l1 = re.split('\\n',grades) #Lista os estudantes e suas notas, basicamente transformando o arquivo em lista.\n",
    "l2 = list()\n",
    "for i in range(len(l1)):\n",
    "    if re.search(r': B',l1[i]):\n",
    "        l2.append(re.findall(r'(.+\\s.+):',l1[i])[0]) #Quando identificada a nota B, anexar o nome e sobrenome do estudante à lista l2\n",
    "\n",
    "print('Há {} estudantes com nota B:'.format(len(l2)),l2)"
   ]
  },
  {
   "cell_type": "markdown",
   "id": "4a257b60-176f-48b1-8baf-73a61b997cac",
   "metadata": {},
   "source": [
    "Uma solução alternativa à solução inicial seria:"
   ]
  },
  {
   "cell_type": "code",
   "execution_count": 3,
   "id": "b1ce61f0-fbe3-4533-8185-b0cf35fbcb3e",
   "metadata": {},
   "outputs": [
    {
     "name": "stdout",
     "output_type": "stream",
     "text": [
      "Há 16 estudantes com nota B: ['Bell Kassulke', 'Simon Loidl', 'Elias Jovanovic', 'Hakim Botros', 'Emilie Lorentsen', 'Jake Wood', 'Fatemeh Akhtar', 'Kim Weston', 'Yasmin Dar', 'Viswamitra Upandhye', 'Killian Kaufman', 'Elwood Page', 'Elodie Booker', 'Adnan Chen', 'Hank Spinka', 'Hannah Bayer']\n"
     ]
    }
   ],
   "source": [
    "l1 = re.split('\\n',grades)\n",
    "l2 = [re.findall(r'(.+\\s.+):',i)[0] for i in l1 if re.search(r': B',i)]\n",
    "\n",
    "print('Há {} estudantes com nota B:'.format(len(l2)),l2)"
   ]
  },
  {
   "cell_type": "markdown",
   "id": "9dae6837-51fa-4288-b9d1-2aba1905931c",
   "metadata": {},
   "source": [
    "## Parte C\n",
    "\n",
    "Nesta parte, o objetivo organizar as informações [desse documento](logdata.txt), que é um registro de acessos à uma página web. Cada linha desse documento apresenta um host, um username, a data/hora do request e o tipo de request feito para o servidor. O resultado final deve ser uma lista de dicionários armazenando, cada um, as informações de uma das linhas, no seguinte formato:\n",
    "```\n",
    "example_dict = {\"host\":\"146.204.224.152\", \n",
    "                \"user_name\":\"feest6811\", \n",
    "                \"time\":\"21/Jun/2019:15:45:24 -0700\",\n",
    "                \"request\":\"POST /incentivize HTTP/1.1\"}\n",
    "```\n",
    "Por fim, a partir dessa lista, deve-se exibir quantos registros há no documento.\n",
    "\n",
    "Obs: por instrução do enunciado do exercício, quando o username estiver faltando, ele deve ser registrado como \"-\" no dicionário, porém, no próprio documento os usernames faltantes já são registrados assim. Isso será importante na proposição de uma solução mais refinada."
   ]
  },
  {
   "cell_type": "code",
   "execution_count": 4,
   "id": "3218ea0d-9da0-4e64-9fb1-71d8d3d1f917",
   "metadata": {},
   "outputs": [
    {
     "name": "stdout",
     "output_type": "stream",
     "text": [
      "Há 979 registros no documento.\n"
     ]
    },
    {
     "name": "stderr",
     "output_type": "stream",
     "text": [
      "C:\\Users\\angel\\AppData\\Local\\Temp\\ipykernel_15340\\3160600265.py:17: FutureWarning: Possible nested set at position 1\n",
      "  item['time'] = (re.findall(r\"[[](\\d{2}\\/[A-Z][a-z]{2}\\/\\d{4}:\\d{2}:\\d{2}:\\d{2} -\\d{4})[]]\",a[i])[0])\n"
     ]
    }
   ],
   "source": [
    "with open(\"logdata.txt\", \"r\") as file:\n",
    "    logdata = file.read()\n",
    "    \n",
    "a = logdata.split(sep='\\n') #transforma o documento em uma lista onde cada linha é um item\n",
    "listo = list()\n",
    "for i in range(len(a)-1):\n",
    "    #print(a[i])\n",
    "    item = dict()\n",
    "    try:\n",
    "        item['host'] = (re.findall(r\"(\\d{1,3}[.]\\d{1,3}[.]\\d{1,3}[.]\\d{1,3})\",a[i])[0])\n",
    "    except:\n",
    "        print('erro na linha %d'%i)\n",
    "    try:\n",
    "        item['user_name'] = (re.findall(r\" ([a-z]+[0-9]*) \",a[i])[0])\n",
    "    except:\n",
    "        item['user_name'] = '-'\n",
    "    item['time'] = (re.findall(r\"[[](\\d{2}\\/[A-Z][a-z]{2}\\/\\d{4}:\\d{2}:\\d{2}:\\d{2} -\\d{4})[]]\",a[i])[0])\n",
    "    item['request'] = (re.findall(r'[\"]([A-Z]+ \\/.+ [A-Z]{4,5}\\/\\d[.]\\d)[\"]',a[i])[0])\n",
    "    listo.append(item)\n",
    "\n",
    "print('Há {} registros no documento.'.format(len(listo)))"
   ]
  },
  {
   "cell_type": "markdown",
   "id": "7b564916-3b59-4ad1-b245-09263550ee37",
   "metadata": {},
   "source": [
    "Solução refinada:"
   ]
  },
  {
   "cell_type": "code",
   "execution_count": 5,
   "id": "4918f3e8-7ffe-41d7-9529-b472285ee2d8",
   "metadata": {},
   "outputs": [
    {
     "name": "stdout",
     "output_type": "stream",
     "text": [
      "Há 979 registros no documento.\n"
     ]
    }
   ],
   "source": [
    "with open(\"logdata.txt\", \"r\") as file:\n",
    "    logdata = file.read()\n",
    "    \n",
    "loglist = logdata.split(sep='\\n') #transforma o documento em uma lista onde cada linha é um item\n",
    "l0 = list()\n",
    "for i in loglist[:-1]:\n",
    "    item = dict()\n",
    "    item['host'] = re.findall(r'(\\d{1,3}[.]\\d{1,3}[.]\\d{1,3}[.]\\d{1,3})',i)[0]\n",
    "    item['user_name'] = re.findall(r'\\d - (.+) \\[',i)[0]\n",
    "    item['time'] = re.findall(r'\\[(\\d{2}\\/[A-Z][a-z]{2}\\/\\d{4}:\\d{2}:\\d{2}:\\d{2} -\\d{4})\\]',i)[0]\n",
    "    item['request'] = re.findall(r'\\\"([A-Z]+ \\/.+ [A-Z]{4,5}\\/\\d[.]\\d)\\\"',i)[0]\n",
    "    l0.append(item)\n",
    "\n",
    "print('Há {} registros no documento.'.format(len(l0)))"
   ]
  },
  {
   "cell_type": "markdown",
   "id": "0a314cce-4538-4cf6-a7ee-7541af273014",
   "metadata": {},
   "source": [
    "É importante notar que a última linha do documento não contém nenhuma informação, existindo devido à quebra de linha no final da linha anterior. Apesar disso, ela resulta em erros durante a execução dos códigos e, por isso, está sendo desconsiderada nas soluções acima."
   ]
  }
 ],
 "metadata": {
  "kernelspec": {
   "display_name": "Python 3 (ipykernel)",
   "language": "python",
   "name": "python3"
  },
  "language_info": {
   "codemirror_mode": {
    "name": "ipython",
    "version": 3
   },
   "file_extension": ".py",
   "mimetype": "text/x-python",
   "name": "python",
   "nbconvert_exporter": "python",
   "pygments_lexer": "ipython3",
   "version": "3.12.0"
  }
 },
 "nbformat": 4,
 "nbformat_minor": 5
}
